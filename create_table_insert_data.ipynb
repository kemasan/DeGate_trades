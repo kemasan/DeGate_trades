{
 "cells": [
  {
   "cell_type": "markdown",
   "metadata": {},
   "source": [
    "The code is written in Python and uses the DUNE API to upload data.\n",
    "The uplouding data is consist of 2 main steps:\n",
    "1.  **Data Preparation**: In this step, the data is prepared for uploading to DUNE\n",
    "-   Create the table \n",
    "-   The data is converted to the required format.\n",
    "-   The data is validated to ensure it meets the required standards.\n",
    "2.  **Data Upload**: In this step, the prepared data is uploaded to DUNE\n",
    "-   The data is sent to DUNE using the DUNE API.\n",
    "-   The response from DUNE is handled to ensure the data was uploaded successfully.\n"
   ]
  },
  {
   "cell_type": "code",
   "execution_count": 1,
   "metadata": {},
   "outputs": [],
   "source": [
    "import pandas as pd\n",
    "import numpy as np\n",
    "import requests\n",
    "from requests import Request\n",
    "import json\n",
    "import csv\n",
    "import dotenv\n",
    "import os\n",
    "from dotenv import load_dotenv, find_dotenv\n",
    "from flipside import Flipside\n",
    "import logging\n",
    "# from degate.spot import Spot as Client\n",
    "# from degate.lib.utils import config_logging\n",
    "from concurrent.futures import ThreadPoolExecutor, as_completed"
   ]
  },
  {
   "cell_type": "code",
   "execution_count": 2,
   "metadata": {},
   "outputs": [],
   "source": [
    "load_dotenv()\n",
    "dotenv.load_dotenv('../../.env')\n",
    "api_key = os.environ[\"DUNE_API_KEY\"]\n",
    "# headers = {\"X-Dune-API-Key\": api_key}\n",
    "flipside_key = os.environ[\"FLIPSIDE_API_KEY\"]"
   ]
  },
  {
   "cell_type": "markdown",
   "metadata": {},
   "source": [
    "DATA PRAEPARATION"
   ]
  },
  {
   "cell_type": "code",
   "execution_count": null,
   "metadata": {},
   "outputs": [],
   "source": [
    "# Create the table to work with\n",
    "schema = [\n",
    "    {\"name\": \"pair\", \"type\": \"varchar\"},\n",
    "    {\"name\": \"date\", \"type\": \"timestamp\", \"nullable\": False},\n",
    "    {\"name\": \"open\", \"type\": \"double\", \"nullable\": False},\n",
    "    {\"name\": \"high\", \"type\": \"double\", \"nullable\": False}, \n",
    "    {\"name\": \"low\", \"type\": \"double\", \"nullable\": False}, \n",
    "    {\"name\": \"close\", \"type\": \"double\", \"nullable\": False}, \n",
    "    {\"name\": \"volume\", \"type\": \"double\", \"nullable\": False}, \n",
    "    {\"name\": \"close_time\", \"type\": \"timestamp\", \"nullable\": False},\n",
    "    {\"name\": \"quote_volume\", \"type\": \"double\", \"nullable\": False},\n",
    "    {\"name\": \"trades\", \"type\": \"double\", \"nullable\": False}\n",
    "    ]\n",
    "url = \"https://api.dune.com/api/v1/table/create\"\n",
    "\n",
    "payload = {\n",
    "    \"namespace\": you_user_name,\n",
    "    \"table_name\": \"degate_trades\",\n",
    "    \"description\": \"daily trading data, sourced from https://app.degate.com/analytics?s=&utm_source=&uuid=a78ef6c3-f6b3-4e7a-89bd-2cf321bf90de\",\n",
    "    \"schema\": schema, \n",
    "    \"is_private\": False\n",
    "}\n",
    "\n",
    "headers = {\n",
    "    \"X-DUNE-API-KEY\": api_key,\n",
    "    \"Content-Type\": \"application/json\"\n",
    "}\n",
    "\n",
    "\n",
    "response = requests.request(\"POST\", url, json=payload, headers=headers)"
   ]
  },
  {
   "cell_type": "code",
   "execution_count": null,
   "metadata": {},
   "outputs": [
    {
     "name": "stdout",
     "output_type": "stream",
     "text": [
      "['pair', 'date', 'open', 'high', 'low', 'close', 'volume', 'close_time', 'quote_volume', 'trades']\n"
     ]
    }
   ],
   "source": [
    "df = pd.read_csv('degate_trades.csv')\n",
    "# df0.drop('Unnamed: 0', axis=1)\n",
    "print(df.columns.tolist())"
   ]
  },
  {
   "cell_type": "code",
   "execution_count": 56,
   "metadata": {},
   "outputs": [],
   "source": [
    "# convert timestamp into ISO 8601 timestamp format\n",
    "base = pd.DataFrame(df)\n",
    "base['date']= pd.to_datetime(base['date'], unit='ms')\n",
    "base['close_time'] = pd.to_datetime(base['close_time'], unit='ms')\n",
    "base['date']\n",
    "# base['close_time']\n",
    "base1 = base.to_csv('degate_trades_time_adjusted.csv')"
   ]
  },
  {
   "cell_type": "code",
   "execution_count": null,
   "metadata": {},
   "outputs": [],
   "source": [
    "# check columns \n",
    "df = pd.read_csv('degate_trades_time_adjusted.csv')\n",
    "# print(df.columns.tolist())\n",
    "\n",
    "# Drop \"Unnamed: 0\" column if it exists\n",
    "if \"Unnamed: 0\" in df.columns:\n",
    "    df = df.drop(columns=[\"Unnamed: 0\"])\n",
    "\n",
    "# Ensure correct column order\n",
    "expected_columns = ['pair', 'date', 'open', 'high', 'low', 'close', 'volume', 'close_time', 'quote_volume', 'trades']\n",
    "df = df[expected_columns]\n",
    "\n",
    "# Save the cleaned CSV\n",
    "df.to_csv(\"degate_trades_final.csv\", index=False)\n",
    "\n",
    "print(\"Fixed CSV saved as 'degate_trades_final.csv'. Try uploading it again.\")"
   ]
  },
  {
   "cell_type": "code",
   "execution_count": 62,
   "metadata": {},
   "outputs": [
    {
     "name": "stdout",
     "output_type": "stream",
     "text": [
      "['pair', 'date', 'open', 'high', 'low', 'close', 'volume', 'close_time', 'quote_volume', 'trades']\n"
     ]
    }
   ],
   "source": [
    "df = pd.read_csv('degate_trades_final.csv')\n",
    "print(df.columns.tolist())"
   ]
  },
  {
   "cell_type": "markdown",
   "metadata": {},
   "source": [
    "DATA UPLOAD"
   ]
  },
  {
   "cell_type": "code",
   "execution_count": null,
   "metadata": {},
   "outputs": [
    {
     "name": "stdout",
     "output_type": "stream",
     "text": [
      "{\"name\":\"dune.kemasan.degate_trades\",\"rows_written\":55972,\"bytes_written\":5305801}\n"
     ]
    }
   ],
   "source": [
    "# insert data into created table \n",
    "url = \"https://api.dune.com/api/v1/table/kemasan/degate_trades/insert\"\n",
    "\n",
    "headers = {\n",
    "    \"X-DUNE-API-KEY\": api_key,\n",
    "    \"Content-Type\": \"text/csv\"\n",
    "}\n",
    "\n",
    "with open(\"degate_trades_final.csv\", \"rb\") as data:\n",
    "  response = requests.request(\"POST\", url, data=data, headers=headers)\n",
    "  print(response.text)"
   ]
  },
  {
   "cell_type": "code",
   "execution_count": null,
   "metadata": {},
   "outputs": [],
   "source": [
    "\n",
    "# url = \"https://api.dune.com/api/v1/table/create\"\n",
    "\n",
    "# payload = {\n",
    "#     \"namespace\": \"kemasan\",\n",
    "#     \"table_name\": \"degate_trades\",\n",
    "#     \"description\": \"daily trading data, source: https://app.degate.com/analytics?s=&utm_source=&uuid=a78ef6c3-f6b3-4e7a-89bd-2cf321bf90de \",\n",
    "#     \"schema\": [{\"name\": \"date\", \"type\": \"timestamp\"}, {\"name\": \"dgs10\", \"type\": \"double\", \"nullable\": True}],\n",
    "#     \"is_private\": False\n",
    "# }\n",
    "\n",
    "# headers = {\n",
    "#     \"X-DUNE-API-KEY\": api_key,\n",
    "#     \"Content-Type\": \"application/json\"\n",
    "# }\n",
    "\n",
    "\n",
    "# response = requests.request(\"POST\", url, json=payload, headers=headers)"
   ]
  },
  {
   "cell_type": "code",
   "execution_count": null,
   "metadata": {},
   "outputs": [],
   "source": [
    "# test = pd.read_csv('test1.csv')\n",
    "# test1 = pd.DataFrame(test)\n",
    "# test1['date'] = pd.to_datetime(test1['date'], unit='s')\n",
    "# test1 = test1.to_csv('test2.csv')\n",
    "\n"
   ]
  },
  {
   "cell_type": "code",
   "execution_count": null,
   "metadata": {},
   "outputs": [],
   "source": [
    "# # check CSV file before insert step\n",
    "# df = pd.read_csv('test2.csv')\n",
    "# # df0.drop('Unnamed: 0', axis=1)\n",
    "# print(df.columns.tolist())\n",
    "# # Drop \"Unnamed: 0\" column if it exists\n",
    "# if \"Unnamed: 0\" in df.columns:\n",
    "#     df = df.drop(columns=[\"Unnamed: 0\"])\n",
    "\n",
    "# # Rename columns to match expected names\n",
    "# df = df.rename(columns={\"data\": \"date\", \"dsg10\": \"dgs10\"})\n",
    "\n",
    "# # Ensure correct column order\n",
    "# expected_columns = [\"date\", \"dgs10\"]\n",
    "# df = df[expected_columns]\n",
    "\n",
    "# # Save the cleaned CSV\n",
    "# df.to_csv(\"cleaned_file.csv\", index=False)\n",
    "\n",
    "# print(\"Fixed CSV saved as 'cleaned_file.csv'. Try uploading it again.\")"
   ]
  },
  {
   "cell_type": "code",
   "execution_count": null,
   "metadata": {},
   "outputs": [],
   "source": []
  },
  {
   "cell_type": "code",
   "execution_count": null,
   "metadata": {},
   "outputs": [],
   "source": []
  }
 ],
 "metadata": {
  "kernelspec": {
   "display_name": "Python 3",
   "language": "python",
   "name": "python3"
  },
  "language_info": {
   "codemirror_mode": {
    "name": "ipython",
    "version": 3
   },
   "file_extension": ".py",
   "mimetype": "text/x-python",
   "name": "python",
   "nbconvert_exporter": "python",
   "pygments_lexer": "ipython3",
   "version": "3.10.3"
  }
 },
 "nbformat": 4,
 "nbformat_minor": 2
}
