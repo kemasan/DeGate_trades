{
 "cells": [
  {
   "cell_type": "code",
   "execution_count": 3,
   "id": "39f9c2a9",
   "metadata": {},
   "outputs": [],
   "source": [
    "# Install pandas package\n",
    "# %pip install pandas\n",
    "\n",
    "import os\n",
    "import pandas as pd\n",
    "import logging\n",
    "import glob \n",
    "\n",
    "# takes the output file as input from dg3_fetch_klines main() and returns the latest close time from the file\n",
    "def get_latest_close_time():\n",
    "    try:\n",
    "        last_trading_data_file = sorted(glob.glob('trading_data_*.csv'))[-1]\n",
    "        \n",
    "        df = pd.read_csv(last_trading_data_file)\n",
    "        # print(df\n",
    "\n",
    "        max_close_time = df.iloc[:, 7].max()  # Get the latest close_time using the index 6\n",
    "        if pd.isna(max_close_time):\n",
    "            logging.warning(f\"No valid 'close_time' found in {sorted(glob.glob('trading_data_*.csv'))[-1]}. Assuming first run.\")\n",
    "            return None\n",
    "\n",
    "        logging.info(f\"Latest close_time found: {max_close_time}\")\n",
    "        return int(max_close_time)  # Convert to integer timestamp\n",
    "        \n",
    "    except Exception as e:\n",
    "        logging.error(f\"Error reading trading data file: {e}\")\n",
    "        return None\n"
   ]
  },
  {
   "cell_type": "code",
   "execution_count": null,
   "id": "92abf27d",
   "metadata": {},
   "outputs": [],
   "source": [
    "from datetime import date, timedelta, datetime\n",
    "def get_end_time_calculation():\n",
    "    yesterday= datetime.now() - timedelta(days=1)\n",
    "    return int(yesterday.timestamp())*1000"
   ]
  },
  {
   "cell_type": "code",
   "execution_count": null,
   "id": "a8eb9085",
   "metadata": {},
   "outputs": [],
   "source": []
  },
  {
   "cell_type": "code",
   "execution_count": null,
   "id": "dfb6e076",
   "metadata": {},
   "outputs": [],
   "source": []
  }
 ],
 "metadata": {
  "kernelspec": {
   "display_name": "Python 3",
   "language": "python",
   "name": "python3"
  },
  "language_info": {
   "codemirror_mode": {
    "name": "ipython",
    "version": 3
   },
   "file_extension": ".py",
   "mimetype": "text/x-python",
   "name": "python",
   "nbconvert_exporter": "python",
   "pygments_lexer": "ipython3",
   "version": "3.10.3"
  }
 },
 "nbformat": 4,
 "nbformat_minor": 5
}
